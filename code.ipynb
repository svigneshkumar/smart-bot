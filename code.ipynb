{
 "metadata": {
  "language_info": {
   "codemirror_mode": {
    "name": "ipython",
    "version": 3
   },
   "file_extension": ".py",
   "mimetype": "text/x-python",
   "name": "python",
   "nbconvert_exporter": "python",
   "pygments_lexer": "ipython3",
   "version": "3.7.9-final"
  },
  "orig_nbformat": 2,
  "kernelspec": {
   "name": "python3",
   "display_name": "Python 3.7.9 64-bit",
   "metadata": {
    "interpreter": {
     "hash": "04635d289a519a1410467dd0afb0db42f9184808881ca68b2eb5a687a20a5a94"
    }
   }
  }
 },
 "nbformat": 4,
 "nbformat_minor": 2,
 "cells": [
  {
   "cell_type": "code",
   "execution_count": 5,
   "metadata": {},
   "outputs": [],
   "source": [
    "#installing packages\n",
    "#pip install nltk  #this for NLP functions\n",
    "#pip install newspaper3k  # reading articles"
   ]
  },
  {
   "cell_type": "code",
   "execution_count": 6,
   "metadata": {},
   "outputs": [],
   "source": [
    "#importing packages\n",
    "\n",
    "from newspaper import Article\n",
    "import random\n",
    "import string\n",
    "import nltk\n",
    "from sklearn.feature_extraction.text import CountVectorizer\n",
    "from sklearn.metrics.pairwise import cosine_similarity\n",
    "import numpy as np\n",
    "import warnings\n",
    "warnings.filterwarnings('ignore')"
   ]
  },
  {
   "cell_type": "code",
   "execution_count": 7,
   "metadata": {},
   "outputs": [
    {
     "output_type": "execute_result",
     "data": {
      "text/plain": [
       "True"
      ]
     },
     "metadata": {},
     "execution_count": 7
    }
   ],
   "source": [
    "#downloading punkt package\n",
    "nltk.download('punkt', quiet = True)"
   ]
  },
  {
   "cell_type": "code",
   "execution_count": 8,
   "metadata": {},
   "outputs": [],
   "source": [
    "#get the article\n",
    "\n",
    "article = Article('https://www.mayoclinic.org/diseases-conditions/chronic-kidney-disease/symptoms-causes/syc-20354521')"
   ]
  },
  {
   "cell_type": "code",
   "execution_count": 9,
   "metadata": {},
   "outputs": [],
   "source": [
    "# article downloading, parsing and creating for nlp\n",
    "\n",
    "article.download()\n",
    "article.parse()\n",
    "article.nlp()"
   ]
  },
  {
   "cell_type": "code",
   "execution_count": 10,
   "metadata": {},
   "outputs": [],
   "source": [
    "#creating a corpus\n",
    "\n",
    "corpus = article.text\n",
    "\n",
    "#article.text returns only the text from the article."
   ]
  },
  {
   "cell_type": "code",
   "execution_count": 11,
   "metadata": {},
   "outputs": [
    {
     "output_type": "stream",
     "name": "stdout",
     "text": [
      "Overview\n\nChronic kidney disease, also called chronic kidney failure, describes the gradual loss of kidney function. Your kidneys filter wastes and excess fluids from your blood, which are then excreted in your urine. When chronic kidney disease reaches an advanced stage, dangerous levels of fluid, electrolytes and wastes can build up in your body.\n\nIn the early stages of chronic kidney disease, you may have few signs or symptoms. Chronic kidney disease may not become apparent until your kidney function is significantly impaired.\n\nTreatment for chronic kidney disease focuses on slowing the progression of the kidney damage, usually by controlling the underlying cause. Chronic kidney disease can progress to end-stage kidney failure, which is fatal without artificial filtering (dialysis) or a kidney transplant.\n\nChronic kidney disease care at Mayo Clinic\n\nHow kidneys work\n\nSymptoms\n\nSigns and symptoms of chronic kidney disease develop over time if kidney damage progresses slowly. Signs and symptoms of kidney disease may include:\n\nNausea\n\nVomiting\n\nLoss of appetite\n\nFatigue and weakness\n\nSleep problems\n\nChanges in how much you urinate\n\nDecreased mental sharpness\n\nMuscle twitches and cramps\n\nSwelling of feet and ankles\n\nPersistent itching\n\nChest pain, if fluid builds up around the lining of the heart\n\nShortness of breath, if fluid builds up in the lungs\n\nHigh blood pressure (hypertension) that's difficult to control\n\nSigns and symptoms of kidney disease are often nonspecific, meaning they can also be caused by other illnesses. Because your kidneys are highly adaptable and able to compensate for lost function, signs and symptoms may not appear until irreversible damage has occurred.\n\nWhen to see a doctor\n\nMake an appointment with your doctor if you have any signs or symptoms of kidney disease.\n\nIf you have a medical condition that increases your risk of kidney disease, your doctor is likely to monitor your blood pressure and kidney function with urine and blood tests during regular office visits. Ask your doctor whether these tests are necessary for you.\n\nCauses\n\nNormal kidney vs. diseased kidney Open pop-up dialog box Close Normal kidney vs. diseased kidney Normal kidney vs. diseased kidney A normal kidney has about 1 million filtering units. Each unit, called a glomerulus, connects to a tubule, which collects urine. Conditions such as high blood pressure and diabetes take a toll on kidney function by damaging these filtering units and collecting tubules and causing scarring.\n\nPolycystic kidney Open pop-up dialog box Close Polycystic kidney Polycystic kidney A healthy kidney (left) eliminates waste from the blood and maintains the body's normal chemical balance. With polycystic kidney disease (right), fluid-filled sacs called cysts develop in the kidneys, causing them to grow larger and gradually lose their ability to function normally.\n\nChronic kidney disease occurs when a disease or condition impairs kidney function, causing kidney damage to worsen over several months or years.\n\nDiseases and conditions that cause chronic kidney disease include:\n\nType 1 or type 2 diabetes\n\nHigh blood pressure\n\nGlomerulonephritis (gloe-mer-u-low-nuh-FRY-tis), an inflammation of the kidney's filtering units (glomeruli)\n\nInterstitial nephritis (in-tur-STISH-ul nuh-FRY-tis), an inflammation of the kidney's tubules and surrounding structures\n\nPolycystic kidney disease\n\nProlonged obstruction of the urinary tract, from conditions such as enlarged prostate, kidney stones and some cancers\n\nVesicoureteral (ves-ih-koe-yoo-REE-tur-ul) reflux, a condition that causes urine to back up into your kidneys\n\nRecurrent kidney infection, also called pyelonephritis (pie-uh-low-nuh-FRY-tis)\n\nRisk factors\n\nFactors that may increase your risk of chronic kidney disease include:\n\nDiabetes\n\nHigh blood pressure\n\nHeart and blood vessel (cardiovascular) disease\n\nSmoking\n\nObesity\n\nBeing African-American, Native American or Asian-American\n\nFamily history of kidney disease\n\nAbnormal kidney structure\n\nOlder age\n\nComplications\n\nChronic kidney disease can affect almost every part of your body. Potential complications may include:\n\nFluid retention, which could lead to swelling in your arms and legs, high blood pressure, or fluid in your lungs (pulmonary edema)\n\nA sudden rise in potassium levels in your blood (hyperkalemia), which could impair your heart's ability to function and may be life-threatening\n\nHeart and blood vessel (cardiovascular) disease\n\nWeak bones and an increased risk of bone fractures\n\nAnemia\n\nDecreased sex drive, erectile dysfunction or reduced fertility\n\nDamage to your central nervous system, which can cause difficulty concentrating, personality changes or seizures\n\nDecreased immune response, which makes you more vulnerable to infection\n\nPericarditis, an inflammation of the saclike membrane that envelops your heart (pericardium)\n\nPregnancy complications that carry risks for the mother and the developing fetus\n\nIrreversible damage to your kidneys (end-stage kidney disease), eventually requiring either dialysis or a kidney transplant for survival\n\nPrevention\n\nTo reduce your risk of developing kidney disease:\n"
     ]
    }
   ],
   "source": [
    "#printing the corpus\n",
    "\n",
    "print(corpus)"
   ]
  },
  {
   "cell_type": "code",
   "execution_count": 12,
   "metadata": {},
   "outputs": [
    {
     "output_type": "stream",
     "name": "stdout",
     "text": [
      "['Overview\\n\\nChronic kidney disease, also called chronic kidney failure, describes the gradual loss of kidney function.', 'Your kidneys filter wastes and excess fluids from your blood, which are then excreted in your urine.', 'When chronic kidney disease reaches an advanced stage, dangerous levels of fluid, electrolytes and wastes can build up in your body.', 'In the early stages of chronic kidney disease, you may have few signs or symptoms.', 'Chronic kidney disease may not become apparent until your kidney function is significantly impaired.', 'Treatment for chronic kidney disease focuses on slowing the progression of the kidney damage, usually by controlling the underlying cause.', 'Chronic kidney disease can progress to end-stage kidney failure, which is fatal without artificial filtering (dialysis) or a kidney transplant.', 'Chronic kidney disease care at Mayo Clinic\\n\\nHow kidneys work\\n\\nSymptoms\\n\\nSigns and symptoms of chronic kidney disease develop over time if kidney damage progresses slowly.', \"Signs and symptoms of kidney disease may include:\\n\\nNausea\\n\\nVomiting\\n\\nLoss of appetite\\n\\nFatigue and weakness\\n\\nSleep problems\\n\\nChanges in how much you urinate\\n\\nDecreased mental sharpness\\n\\nMuscle twitches and cramps\\n\\nSwelling of feet and ankles\\n\\nPersistent itching\\n\\nChest pain, if fluid builds up around the lining of the heart\\n\\nShortness of breath, if fluid builds up in the lungs\\n\\nHigh blood pressure (hypertension) that's difficult to control\\n\\nSigns and symptoms of kidney disease are often nonspecific, meaning they can also be caused by other illnesses.\", 'Because your kidneys are highly adaptable and able to compensate for lost function, signs and symptoms may not appear until irreversible damage has occurred.', 'When to see a doctor\\n\\nMake an appointment with your doctor if you have any signs or symptoms of kidney disease.', 'If you have a medical condition that increases your risk of kidney disease, your doctor is likely to monitor your blood pressure and kidney function with urine and blood tests during regular office visits.', 'Ask your doctor whether these tests are necessary for you.', 'Causes\\n\\nNormal kidney vs. diseased kidney Open pop-up dialog box Close Normal kidney vs. diseased kidney Normal kidney vs. diseased kidney A normal kidney has about 1 million filtering units.', 'Each unit, called a glomerulus, connects to a tubule, which collects urine.', 'Conditions such as high blood pressure and diabetes take a toll on kidney function by damaging these filtering units and collecting tubules and causing scarring.', \"Polycystic kidney Open pop-up dialog box Close Polycystic kidney Polycystic kidney A healthy kidney (left) eliminates waste from the blood and maintains the body's normal chemical balance.\", 'With polycystic kidney disease (right), fluid-filled sacs called cysts develop in the kidneys, causing them to grow larger and gradually lose their ability to function normally.', 'Chronic kidney disease occurs when a disease or condition impairs kidney function, causing kidney damage to worsen over several months or years.', \"Diseases and conditions that cause chronic kidney disease include:\\n\\nType 1 or type 2 diabetes\\n\\nHigh blood pressure\\n\\nGlomerulonephritis (gloe-mer-u-low-nuh-FRY-tis), an inflammation of the kidney's filtering units (glomeruli)\\n\\nInterstitial nephritis (in-tur-STISH-ul nuh-FRY-tis), an inflammation of the kidney's tubules and surrounding structures\\n\\nPolycystic kidney disease\\n\\nProlonged obstruction of the urinary tract, from conditions such as enlarged prostate, kidney stones and some cancers\\n\\nVesicoureteral (ves-ih-koe-yoo-REE-tur-ul) reflux, a condition that causes urine to back up into your kidneys\\n\\nRecurrent kidney infection, also called pyelonephritis (pie-uh-low-nuh-FRY-tis)\\n\\nRisk factors\\n\\nFactors that may increase your risk of chronic kidney disease include:\\n\\nDiabetes\\n\\nHigh blood pressure\\n\\nHeart and blood vessel (cardiovascular) disease\\n\\nSmoking\\n\\nObesity\\n\\nBeing African-American, Native American or Asian-American\\n\\nFamily history of kidney disease\\n\\nAbnormal kidney structure\\n\\nOlder age\\n\\nComplications\\n\\nChronic kidney disease can affect almost every part of your body.\", \"Potential complications may include:\\n\\nFluid retention, which could lead to swelling in your arms and legs, high blood pressure, or fluid in your lungs (pulmonary edema)\\n\\nA sudden rise in potassium levels in your blood (hyperkalemia), which could impair your heart's ability to function and may be life-threatening\\n\\nHeart and blood vessel (cardiovascular) disease\\n\\nWeak bones and an increased risk of bone fractures\\n\\nAnemia\\n\\nDecreased sex drive, erectile dysfunction or reduced fertility\\n\\nDamage to your central nervous system, which can cause difficulty concentrating, personality changes or seizures\\n\\nDecreased immune response, which makes you more vulnerable to infection\\n\\nPericarditis, an inflammation of the saclike membrane that envelops your heart (pericardium)\\n\\nPregnancy complications that carry risks for the mother and the developing fetus\\n\\nIrreversible damage to your kidneys (end-stage kidney disease), eventually requiring either dialysis or a kidney transplant for survival\\n\\nPrevention\\n\\nTo reduce your risk of developing kidney disease:\"]\n"
     ]
    }
   ],
   "source": [
    "#sentence tokenization\n",
    "\n",
    "#this returns the paragraph as sentences based on '.' and returns in the form of list.\n",
    "\n",
    "text = corpus\n",
    "\n",
    "sentence_list = nltk.sent_tokenize(text)\n",
    "print(sentence_list)"
   ]
  },
  {
   "cell_type": "code",
   "execution_count": 13,
   "metadata": {},
   "outputs": [],
   "source": [
    "#response for greeting messages\n",
    "\n",
    "def greetings_response(user_input):\n",
    "    text = user_input.lower()\n",
    "\n",
    "    #user greetings\n",
    "    user_greetings = ['hi', 'hello', 'hey', 'greetings']\n",
    "\n",
    "    #bot greetings\n",
    "    bot_greetings = ['hi', 'hello', 'hey', 'howdy']\n",
    "\n",
    "    for word in text.split():\n",
    "        if word in user_greetings:\n",
    "            return random.choice(bot_greetings)\n"
   ]
  },
  {
   "cell_type": "code",
   "execution_count": 14,
   "metadata": {},
   "outputs": [],
   "source": [
    "def index_sort(list_var):\n",
    "    length = len(list_var)\n",
    "    list_index = list(range(0, length))\n",
    "\n",
    "    x = list_var\n",
    "    for i in range(length):\n",
    "        for j in range(length):\n",
    "            if x[list_index[i]] > x[list_index[j]]:\n",
    "                (list_index[i],list_index[j]) = (list_index[j], list_index[i])\n",
    "    return list_index\n"
   ]
  },
  {
   "cell_type": "code",
   "execution_count": 18,
   "metadata": {},
   "outputs": [],
   "source": [
    "#creatings a bot greetings\n",
    "\n",
    "def bot_response(user_input):\n",
    "    user_input = user_input.lower()\n",
    "    sentence_list.append(user_input)\n",
    "    bot_response = ''\n",
    "    cv = CountVectorizer().fit_transform(sentence_list)\n",
    "    #print(cv)\n",
    "    similarity_scores = cosine_similarity(cv[-1], cv)\n",
    "    #print(similarity_scores)\n",
    "    similarity_scores_list = similarity_scores.flatten()\n",
    "    #print(similarity_scores_list)\n",
    "    index = index_sort(similarity_scores_list)\n",
    "    index = index[1:]\n",
    "    response_flag = 0\n",
    "\n",
    "    j=0\n",
    "    for i in range(len(index)):\n",
    "        if similarity_scores_list[index[i]] > 0.0:\n",
    "            bot_response = bot_response + ' '+ sentence_list[index[i]]\n",
    "            response_flag = 1\n",
    "            j+=1\n",
    "        if j>2:\n",
    "            break\n",
    "    \n",
    "    if response_flag ==0:\n",
    "        bot_response = bot_response + ' ' + 'I dont understand.'\n",
    "    sentence_list.remove(user_input)\n",
    "\n",
    "    return bot_response\n"
   ]
  },
  {
   "cell_type": "code",
   "execution_count": 19,
   "metadata": {},
   "outputs": [
    {
     "output_type": "stream",
     "name": "stdout",
     "text": [
      "Doc Bot: Hi I am a Doc Bot. I will answer your questions based on Chronic Kidney Disease. Type 'Bye' to exit.\n",
      "You: hi\n",
      "Doc Bot: howdy\n",
      "You: symptoms of chronic disease\n",
      "Doc Bot:  Chronic kidney disease care at Mayo Clinic\n",
      "\n",
      "How kidneys work\n",
      "\n",
      "Symptoms\n",
      "\n",
      "Signs and symptoms of chronic kidney disease develop over time if kidney damage progresses slowly. In the early stages of chronic kidney disease, you may have few signs or symptoms. Overview\n",
      "\n",
      "Chronic kidney disease, also called chronic kidney failure, describes the gradual loss of kidney function.\n",
      "You: bye\n",
      "Doc Bot: Thank You\n"
     ]
    }
   ],
   "source": [
    "print(\"Doc Bot: Hi I am a Doc Bot. I will answer your questions based on Chronic Kidney Disease. Type 'Bye' to exit.\")\n",
    "\n",
    "exit_list = ['exit', 'bye', 'see you later', 'quit', 'break']\n",
    "\n",
    "while(1):\n",
    "    user_input = input()\n",
    "    print(\"You: \" + user_input)\n",
    "    if user_input.lower() in exit_list:\n",
    "        print(\"Doc Bot: Thank You\")\n",
    "        break\n",
    "    else:\n",
    "        if greetings_response(user_input) != None:\n",
    "            print(\"Doc Bot: \" + greetings_response(user_input))\n",
    "        else:\n",
    "            print(\"Doc Bot: \"+ bot_response(user_input))\n",
    "\n",
    " "
   ]
  },
  {
   "cell_type": "code",
   "execution_count": null,
   "metadata": {},
   "outputs": [],
   "source": []
  }
 ]
}